{
  "nbformat": 4,
  "nbformat_minor": 0,
  "metadata": {
    "colab": {
      "provenance": [],
      "include_colab_link": true
    },
    "kernelspec": {
      "name": "python3",
      "display_name": "Python 3"
    },
    "language_info": {
      "name": "python"
    }
  },
  "cells": [
    {
      "cell_type": "markdown",
      "metadata": {
        "id": "view-in-github",
        "colab_type": "text"
      },
      "source": [
        "<a href=\"https://colab.research.google.com/github/KristinaA96/_DTSC3020_Fall2025/blob/main/Student_In_Class_Assignment_Ch_7_(1).ipynb\" target=\"_parent\"><img src=\"https://colab.research.google.com/assets/colab-badge.svg\" alt=\"Open In Colab\"/></a>"
      ]
    },
    {
      "cell_type": "markdown",
      "source": [
        "#Write a Python program that simulates a self-checkout system.**\n",
        "Use this price list: prices: apple= 1 ,  bread= 2.5 ,  milk=5 ,  egg= 6\n",
        "\n",
        "Program requirements:\n",
        "\n",
        "The program should repeatedly ask the user to enter an item name or enter \"pay\".\n",
        "\n",
        "\n",
        "• Valid inputs are the names of the **items above ** or the word \"pay\".\n",
        "\n",
        "\n",
        "If the entered item exists in the price list:\n",
        "\n",
        "• Add its price to the running total.\n",
        "\n",
        "\n",
        "• Print the message: \"Added , running total: $\".\n",
        "\n",
        "\n",
        "If the entered item does not exist in the price list:\n",
        "\n",
        "• Print \"Item not found\".\n",
        "\n",
        "If the user types \"pay\":\n",
        "\n",
        "• Stop asking for input.\n",
        "\n",
        "Show the following three values:\n",
        "\n",
        "\n",
        "**Subtotal: the sum of all valid items entered.**\n",
        "\n",
        "**Tax: 8% of the subtotal. (0.08 * total)**\n",
        "\n",
        "**Final total: subtotal + tax.**\n",
        "\n",
        "\n",
        "Run your program with this purchase list. For example, for one person whose purchase is:apple, pizza, bread, pay *italicised text*"
      ],
      "metadata": {
        "id": "t1xs1X02Owtz"
      }
    },
    {
      "cell_type": "code",
      "source": [
        "from typing import Final\n",
        "prices = {\"apple\": 1, \"bread\": 2.5, \"milk\": 5, \"egg\" : 6 }\n",
        "total = 0\n",
        "while True:\n",
        "    item = input(\"Enter an item name or enter 'pay': \")\n",
        "    if item == \"pay\":\n",
        "        break\n",
        "\n",
        "    if item in prices:\n",
        "        total += prices[item]\n",
        "        print(f\"Added {item} to the running total: ${total:.2f}\")\n",
        "    else:\n",
        "        print(\"Item not found\")\n",
        "    print(f\"Subtotal: ${total:.2f}\")\n",
        "    tax = total * 0.08\n",
        "    final_total = total + tax\n",
        "    print(f\"Tax: ${tax:.2f}\")\n",
        "    print(f\"Final total: ${final_total:.2f}\")"
      ],
      "metadata": {
        "colab": {
          "base_uri": "https://localhost:8080/"
        },
        "id": "pNLY6qEuzjaw",
        "outputId": "53f40a5c-8003-4cc4-8c93-c12ccd9d16c9"
      },
      "execution_count": 23,
      "outputs": [
        {
          "name": "stdout",
          "output_type": "stream",
          "text": [
            "Enter an item name or enter 'pay': bread\n",
            "Added bread to the running total: $2.50\n",
            "Subtotal: $2.50\n",
            "Tax: $0.20\n",
            "Final total: $2.70\n",
            "Enter an item name or enter 'pay': pay\n"
          ]
        }
      ]
    },
    {
      "cell_type": "code",
      "execution_count": 21,
      "metadata": {
        "id": "nTH6mvq1OqHP",
        "colab": {
          "base_uri": "https://localhost:8080/"
        },
        "outputId": "0edcf2cf-3105-49d0-b809-b84be68e40ad"
      },
      "outputs": [
        {
          "name": "stdout",
          "output_type": "stream",
          "text": [
            "Enter an item name or enter 'pay': pizza\n",
            "Added pizza to the running total: $2.50\n",
            "Subtotal: $2.50\n",
            "Tax: $0.20\n",
            "Final total: $2.70\n",
            "Enter an item name or enter 'pay': pay\n"
          ]
        }
      ],
      "source": [
        "from typing import Final\n",
        "prices = {\"apple\": 1, \"pizza\": 2.5, \"bread\": 5 }\n",
        "total = 0\n",
        "while True:\n",
        "    item = input(\"Enter an item name or enter 'pay': \")\n",
        "    if item == \"pay\":\n",
        "        break\n",
        "\n",
        "    if item in prices:\n",
        "        total += prices[item]\n",
        "        print(f\"Added {item} to the running total: ${total:.2f}\")\n",
        "    else:\n",
        "        print(\"Item not found\")\n",
        "    print(f\"Subtotal: ${total:.2f}\")\n",
        "    tax = total * 0.08\n",
        "    final_total = total + tax\n",
        "    print(f\"Tax: ${tax:.2f}\")\n",
        "    print(f\"Final total: ${final_total:.2f}\")"
      ]
    }
  ]
}