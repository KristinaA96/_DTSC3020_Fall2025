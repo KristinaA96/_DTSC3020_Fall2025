{
  "cells": [
    {
      "cell_type": "markdown",
      "metadata": {
        "id": "view-in-github",
        "colab_type": "text"
      },
      "source": [
        "<a href=\"https://colab.research.google.com/github/KristinaA96/_DTSC3020_Fall2025/blob/main/assignment4__ch_6___1.ipynb\" target=\"_parent\"><img src=\"https://colab.research.google.com/assets/colab-badge.svg\" alt=\"Open In Colab\"/></a>"
      ]
    },
    {
      "cell_type": "markdown",
      "source": [
        "#DTSC 3020 – Assignment 4\n",
        "Chapter 6 – Dictionaries\n",
        "\n",
        "Total points: 4\n",
        "\n",
        "Deadline: Friday at midnight\n",
        "\n",
        "Submission: Upload your Python file to your GitHub repository and submit only your GitHub link.\n",
        "\n",
        "\n",
        "Expectations\n",
        "Write complete answers and run all cells before submission.\n",
        "Keep the notebook clean (no unnecessary code)."
      ],
      "metadata": {
        "id": "-astqhkqk-sA"
      },
      "id": "-astqhkqk-sA"
    },
    {
      "cell_type": "markdown",
      "source": [
        "Exercise  1: Find and print the student with the lowest grade."
      ],
      "metadata": {
        "id": "Iu8c7M_Rk9AH"
      },
      "id": "Iu8c7M_Rk9AH"
    },
    {
      "cell_type": "code",
      "source": [
        "grades = {\n",
        "    'Ali': 17,\n",
        "    'Sara': 19,\n",
        "    'Reza': 18.5,\n",
        "    'Lina': 20,\n",
        "    'Omid': 16\n",
        "}\n",
        "\n",
        "# Write your code here:\n",
        "print(min(grades, key=grades.get))\n",
        "\n",
        "\n"
      ],
      "metadata": {
        "id": "qL5VY2kIk4Nc",
        "colab": {
          "base_uri": "https://localhost:8080/"
        },
        "outputId": "72b84d72-1988-4cea-a6e0-4b87c1f35684"
      },
      "id": "qL5VY2kIk4Nc",
      "execution_count": null,
      "outputs": [
        {
          "output_type": "stream",
          "name": "stdout",
          "text": [
            "Omid\n"
          ]
        }
      ]
    },
    {
      "cell_type": "markdown",
      "source": [
        "Exercise 2: print names of students who registered for any course containing \"Data\""
      ],
      "metadata": {
        "id": "y880yRq6k58C"
      },
      "id": "y880yRq6k58C"
    },
    {
      "cell_type": "code",
      "source": [
        "courses = {\n",
        "    'Ali': ['Python', 'Math'],\n",
        "    'Sara': ['Data Mining', 'Chemistry'],\n",
        "    'Reza': ['Machine Learning', 'Data Science'],\n",
        "    'Lina': ['English', 'History']\n",
        "}\n",
        "\n",
        "# Write your code here:\n",
        "print([name for name, course in courses.items() if 'Data' in ' '.join(course)])\n"
      ],
      "metadata": {
        "id": "tFfys48Iodlr",
        "colab": {
          "base_uri": "https://localhost:8080/"
        },
        "outputId": "9d6f16d9-0b1d-4580-a1e6-345e1cce85d3"
      },
      "id": "tFfys48Iodlr",
      "execution_count": null,
      "outputs": [
        {
          "output_type": "stream",
          "name": "stdout",
          "text": [
            "['Sara', 'Reza']\n"
          ]
        }
      ]
    },
    {
      "cell_type": "markdown",
      "source": [
        "Exercise 3: Print titles of books that are not available."
      ],
      "metadata": {
        "id": "nUG5vQjeoWWE"
      },
      "id": "nUG5vQjeoWWE"
    },
    {
      "cell_type": "code",
      "source": [
        "library = {\n",
        "    'Python101': {'pages': 180, 'available': True},\n",
        "    'AI Basics': {'pages': 130, 'available': False},\n",
        "    'Math Advanced': {'pages': 200, 'available': False},\n",
        "    'Statistics': {'pages': 175, 'available': True}\n",
        "}\n",
        "\n",
        "# Write your code here:\n",
        "\n",
        "print([title for title, info in library.items() if not info['available']])\n",
        "\n"
      ],
      "metadata": {
        "id": "2kFBzKyloecs",
        "colab": {
          "base_uri": "https://localhost:8080/"
        },
        "outputId": "2971bd10-5da9-49ac-80ff-8a1d13cbec88"
      },
      "id": "2kFBzKyloecs",
      "execution_count": null,
      "outputs": [
        {
          "output_type": "stream",
          "name": "stdout",
          "text": [
            "['AI Basics', 'Math Advanced']\n"
          ]
        }
      ]
    },
    {
      "cell_type": "markdown",
      "source": [
        "Exercise 4: Print names of students who are registered for more than 2 courses.\n"
      ],
      "metadata": {
        "id": "HA_jFJ3Ro2FJ"
      },
      "id": "HA_jFJ3Ro2FJ"
    },
    {
      "cell_type": "code",
      "source": [
        "\n",
        "registrations = {\n",
        "    'Ali': ['Python', 'Math'],\n",
        "    'Sara': ['Biology', 'Chemistry', 'Math'],\n",
        "    'Reza': ['English'],\n",
        "    'Lina': ['History', 'Physics', 'Geography', 'Art']\n",
        "}\n",
        "\n",
        "# Write your code here:\n",
        "print([name for name, course in registrations.items() if len(course) > 2])\n"
      ],
      "metadata": {
        "id": "vYXKqs-jk43C",
        "colab": {
          "base_uri": "https://localhost:8080/"
        },
        "outputId": "34338cd8-8387-4ee7-a7b7-eb7afe83c344"
      },
      "id": "vYXKqs-jk43C",
      "execution_count": null,
      "outputs": [
        {
          "output_type": "stream",
          "name": "stdout",
          "text": [
            "['Sara', 'Lina']\n"
          ]
        }
      ]
    },
    {
      "cell_type": "markdown",
      "source": [
        "Exercise 5: Calculate and print the average grade of the class."
      ],
      "metadata": {
        "id": "ZR7nhc-BpHvx"
      },
      "id": "ZR7nhc-BpHvx"
    },
    {
      "cell_type": "code",
      "source": [
        "grades = {\n",
        "    'Ali': 17,\n",
        "    'Sara': 19,\n",
        "    'Reza': 18.5,\n",
        "    'Lina': 20,\n",
        "    'Omid': 16\n",
        "}\n",
        "\n",
        "# Write your code here:\n",
        "print(sum(grades.values())/len(grades))\n"
      ],
      "metadata": {
        "id": "6Xbt2zE8pGNJ",
        "colab": {
          "base_uri": "https://localhost:8080/"
        },
        "outputId": "411c667d-798b-464d-c331-c5d32693de07"
      },
      "id": "6Xbt2zE8pGNJ",
      "execution_count": null,
      "outputs": [
        {
          "output_type": "stream",
          "name": "stdout",
          "text": [
            "18.1\n"
          ]
        }
      ]
    },
    {
      "cell_type": "markdown",
      "source": [
        "Exercise 6: Count and print the number of students registered for \"Python\".\n"
      ],
      "metadata": {
        "id": "U33R5aWYpev_"
      },
      "id": "U33R5aWYpev_"
    },
    {
      "cell_type": "code",
      "source": [
        "courses = {\n",
        "    'Ali': ['Python', 'Math'],\n",
        "    'Sara': ['Biology', 'Chemistry'],\n",
        "    'Reza': ['Python', 'AI'],\n",
        "    'Lina': ['English', 'History'],\n",
        "    'Omid': ['Python']\n",
        "}\n",
        "\n",
        "# Write your code here:\n",
        "print(len([name for name, course in courses.items() if 'Python' in course]))\n"
      ],
      "metadata": {
        "id": "Wcjq96gVpliQ",
        "colab": {
          "base_uri": "https://localhost:8080/"
        },
        "outputId": "73e6b1f1-126f-4d28-b5ce-319134a3b68f"
      },
      "id": "Wcjq96gVpliQ",
      "execution_count": null,
      "outputs": [
        {
          "output_type": "stream",
          "name": "stdout",
          "text": [
            "3\n"
          ]
        }
      ]
    },
    {
      "cell_type": "markdown",
      "source": [
        "Exercise 7: Print titles of books with more than 200 pages."
      ],
      "metadata": {
        "id": "2tAWS80-p75f"
      },
      "id": "2tAWS80-p75f"
    },
    {
      "cell_type": "code",
      "source": [
        "book_pages = {\n",
        "    'Python101': 180,\n",
        "    'AI Basics': 230,\n",
        "    'Math Advanced': 250,\n",
        "    'Statistics': 190,\n",
        "    'Data Science': 300\n",
        "}\n",
        "\n",
        "\n",
        "# write your answer here\n",
        "print([title for title, pages in book_pages.items() if pages > 200])\n"
      ],
      "metadata": {
        "id": "OxMTnraWp8Pf",
        "colab": {
          "base_uri": "https://localhost:8080/"
        },
        "outputId": "b69a4455-b94e-4baa-9b8c-144606df824d"
      },
      "id": "OxMTnraWp8Pf",
      "execution_count": null,
      "outputs": [
        {
          "output_type": "stream",
          "name": "stdout",
          "text": [
            "['AI Basics', 'Math Advanced', 'Data Science']\n"
          ]
        }
      ]
    },
    {
      "cell_type": "markdown",
      "source": [
        "Exercise 8: Print each student's name and number of registered courses.\n"
      ],
      "metadata": {
        "id": "DTw2a77lqOL1"
      },
      "id": "DTw2a77lqOL1"
    },
    {
      "cell_type": "code",
      "source": [
        "courses = {\n",
        "    'Ali': ['Python', 'Math'],\n",
        "    'Sara': ['Biology', 'Chemistry'],\n",
        "    'Reza': ['Python', 'AI'],\n",
        "    'Lina': ['English', 'History'],\n",
        "    'Omid': ['Python']\n",
        "}\n",
        "\n",
        "# Write your code here:\n",
        "print({name: len(course) for name, course in courses.items()})\n"
      ],
      "metadata": {
        "id": "hFURuXPTqL8Y",
        "colab": {
          "base_uri": "https://localhost:8080/"
        },
        "outputId": "49e7e406-b586-444a-ef10-5c123e22f1fa"
      },
      "id": "hFURuXPTqL8Y",
      "execution_count": null,
      "outputs": [
        {
          "output_type": "stream",
          "name": "stdout",
          "text": [
            "{'Ali': 2, 'Sara': 2, 'Reza': 2, 'Lina': 2, 'Omid': 1}\n"
          ]
        }
      ]
    }
  ],
  "metadata": {
    "colab": {
      "provenance": [],
      "include_colab_link": true
    },
    "language_info": {
      "name": "python"
    },
    "kernelspec": {
      "name": "python3",
      "display_name": "Python 3"
    }
  },
  "nbformat": 4,
  "nbformat_minor": 5
}