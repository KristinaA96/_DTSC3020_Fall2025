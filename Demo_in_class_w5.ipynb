{
  "cells": [
    {
      "cell_type": "markdown",
      "metadata": {
        "id": "view-in-github",
        "colab_type": "text"
      },
      "source": [
        "<a href=\"https://colab.research.google.com/github/KristinaA96/_DTSC3020_Fall2025/blob/main/Demo_in_class_w5.ipynb\" target=\"_parent\"><img src=\"https://colab.research.google.com/assets/colab-badge.svg\" alt=\"Open In Colab\"/></a>"
      ]
    },
    {
      "cell_type": "markdown",
      "id": "9232b6bc",
      "metadata": {
        "id": "9232b6bc"
      },
      "source": [
        "\n",
        "# BASIC COMPARISON & LOGICAL OPERATORS\n",
        "\n",
        "- `==` → \"double equals\" (equality operator)  \n",
        "  Are the two values equal?  \n",
        "  Example: `x == 5` → True if `x` is 5  \n",
        "\n",
        "- `!=` → \"not equal\" (inequality operator)  \n",
        "  Are the two values different?  \n",
        "  Example: `x != 5` → True if `x` is NOT 5  \n",
        "\n",
        "- `>` → \"greater than\"  \n",
        "  Example: `x > 5` → True if `x` is bigger than 5  \n",
        "\n",
        "- `>=` → \"greater than or equal to\"  \n",
        "  Example: `x >= 5` → True if `x` is 5 or more  \n",
        "\n",
        "- `<` → \"less than\"  \n",
        "  Example: `x < 5` → True if `x` is smaller than 5  \n",
        "\n",
        "- `<=` → \"less than or equal to\"  \n",
        "  Example: `x <= 5` → True if `x` is 5 or less  \n",
        "\n",
        "- `in` → \"in operator\"  \n",
        "  Check if an element is inside a list/string  \n",
        "  Example: `\"a\" in [\"a\",\"b\"]` → True  \n",
        "\n",
        "- `not in` → \"not in operator\"  \n",
        "  Check if an element is NOT in the collection  \n",
        "  Example: `\"c\" not in [\"a\",\"b\"]` → True  \n",
        "\n",
        "- `and` → \"and operator\"  \n",
        "  Both conditions must be True  \n",
        "  Example: `(x > 0 and x < 10)`  \n",
        "\n",
        "- `or` → \"or operator\"  \n",
        "  At least one condition must be True  \n",
        "  Example: `(x < 0 or x > 10)`  \n",
        "\n",
        "- `not` → \"not operator\"  \n",
        "  Flips the condition  \n",
        "  Example: `not(x > 5)` → True if `x <= 5`\n"
      ]
    },
    {
      "cell_type": "code",
      "execution_count": null,
      "id": "07b4ca3a",
      "metadata": {
        "colab": {
          "base_uri": "https://localhost:8080/"
        },
        "id": "07b4ca3a",
        "outputId": "bfd7c4ac-b3c9-4a4d-ad62-70c85ed3710c"
      },
      "outputs": [
        {
          "output_type": "stream",
          "name": "stdout",
          "text": [
            "Child\n"
          ]
        }
      ],
      "source": [
        "\n",
        "# STRUCTURE & FLOW of if / elif / else\n",
        "\n",
        "age = 5\n",
        "\n",
        "if age < 13:\n",
        "    print(\"Child\")\n",
        "elif age < 20:\n",
        "    print(\"Teenager\")  # runs here\n",
        "elif age < 65:\n",
        "    print(\"Adult\")\n",
        "else:\n",
        "    print(\"Elder\")\n"
      ]
    },
    {
      "cell_type": "markdown",
      "id": "4c7438b8",
      "metadata": {
        "id": "4c7438b8"
      },
      "source": [
        "\n",
        "# QUESTION 1: Oil Change Reminder\n",
        "\n",
        "Imagine you are tracking when a car needs an oil change.\n",
        "\n",
        "- Less than 3000 miles → \"Oil is fine.\"  \n",
        "- 3000 to 4999 miles → \"Consider changing soon.\"  \n",
        "- 5000 or more miles → \"Oil change needed!\"  \n"
      ]
    },
    {
      "cell_type": "code",
      "execution_count": null,
      "id": "3f6c63ef",
      "metadata": {
        "colab": {
          "base_uri": "https://localhost:8080/"
        },
        "id": "3f6c63ef",
        "outputId": "e1191af7-2db4-4ebc-8108-57d1db310d2d"
      },
      "outputs": [
        {
          "output_type": "stream",
          "name": "stdout",
          "text": [
            "Oil change needed!\n"
          ]
        }
      ],
      "source": [
        "\n",
        "miles = 5500\n",
        "\n",
        "if miles < 3000:\n",
        "    print(\"Oil is fine.\")\n",
        "elif miles < 5000:\n",
        "    print(\"Consider changing soon.\")\n",
        "else:\n",
        "    print(\"Oil change needed!\")   # runs here\n"
      ]
    },
    {
      "cell_type": "markdown",
      "id": "304f0bd0",
      "metadata": {
        "id": "304f0bd0"
      },
      "source": [
        "\n",
        "# QUESTION 2: Game Age Check\n",
        "\n",
        "Decide if a player can play a game based on age:\n",
        "\n",
        "- Under 13 → \"Too young.\"  \n",
        "- 13–17 → \"You can play with parental guidance.\"  \n",
        "- 18 or older → \"You can play freely!\"  \n"
      ]
    },
    {
      "cell_type": "code",
      "execution_count": null,
      "id": "0f6cc062",
      "metadata": {
        "colab": {
          "base_uri": "https://localhost:8080/"
        },
        "id": "0f6cc062",
        "outputId": "4f2b02bb-239a-4e0f-88f5-ffe320fd1bfa"
      },
      "outputs": [
        {
          "output_type": "stream",
          "name": "stdout",
          "text": [
            "You can play freely!\n"
          ]
        }
      ],
      "source": [
        "\n",
        "age = 25\n",
        "if age < 13:\n",
        "    print(\"Too young.\")\n",
        "elif age < 18:\n",
        "    print(\"You can play with parental guidance.\")\n",
        "else:\n",
        "    print(\"You can play freely!\")\n"
      ]
    },
    {
      "cell_type": "markdown",
      "id": "84deaab7",
      "metadata": {
        "id": "84deaab7"
      },
      "source": [
        "\n",
        "#  QUESTION 3: Game Score Levels\n",
        "\n",
        "- Less than 3 → \"Beginner\"  \n",
        "- 3 to 4 → \"Intermediate\"  \n",
        "- 5 to 6 → \"Pro\"  \n",
        "- 7 or more → \"Legend\"  \n"
      ]
    },
    {
      "cell_type": "code",
      "execution_count": null,
      "id": "fe6478d5",
      "metadata": {
        "colab": {
          "base_uri": "https://localhost:8080/"
        },
        "id": "fe6478d5",
        "outputId": "75442689-4b2b-4b79-91f9-df0cf9338c89"
      },
      "outputs": [
        {
          "output_type": "stream",
          "name": "stdout",
          "text": [
            "Legend\n"
          ]
        }
      ],
      "source": [
        "\n",
        "score = 7\n",
        "\n",
        "if score < 3:\n",
        "    print(\"Beginner\")\n",
        "elif score < 5:\n",
        "    print(\"Intermediate\")\n",
        "elif score < 7:\n",
        "    print(\"Pro\")       # runs here\n",
        "else:\n",
        "    print(\"Legend\")\n"
      ]
    },
    {
      "cell_type": "markdown",
      "id": "a783ab0d",
      "metadata": {
        "id": "a783ab0d"
      },
      "source": [
        "\n",
        "# EXERCISE: Metro Fare Zones\n",
        "\n",
        "Write a Python script that prints the fare based on the number of zones traveled:\n",
        "\n",
        "- 1 zone → $2.50\n",
        "\n",
        "- 2–3 zones → $3.25\n",
        "\n",
        "- 4 or more zones → $4.00\n"
      ]
    },
    {
      "cell_type": "code",
      "execution_count": null,
      "id": "bbed1f53",
      "metadata": {
        "colab": {
          "base_uri": "https://localhost:8080/"
        },
        "id": "bbed1f53",
        "outputId": "9fa661b3-5ce1-4d58-fd2d-d21bde8dbcb5"
      },
      "outputs": [
        {
          "output_type": "stream",
          "name": "stdout",
          "text": [
            "$3.25\n"
          ]
        }
      ],
      "source": [
        "\n",
        "zones = 3\n",
        "\n",
        "if zones == 1:\n",
        "    print(\"$2.50\")\n",
        "elif zones <= 3:\n",
        "    print(\"$3.25\")\n",
        "else:\n",
        "    print(\"$4.00\")\n"
      ]
    },
    {
      "cell_type": "markdown",
      "id": "05d7b3e8",
      "metadata": {
        "id": "05d7b3e8"
      },
      "source": [
        "\n",
        "# QUESTION 4: Pantry Check\n",
        "\n",
        "Check if certain items are missing in the pantry.  \n"
      ]
    },
    {
      "cell_type": "code",
      "execution_count": null,
      "id": "ca01bdd7",
      "metadata": {
        "colab": {
          "base_uri": "https://localhost:8080/"
        },
        "id": "ca01bdd7",
        "outputId": "60336ca7-ee4a-4d8f-bce7-6dc798cf00b9"
      },
      "outputs": [
        {
          "output_type": "stream",
          "name": "stdout",
          "text": [
            "Add milk to shopping list\n",
            "Add eggs to shopping list\n"
          ]
        }
      ],
      "source": [
        "\n",
        "pantry = [\"rice\", \"pasta\", \"flour\"]\n",
        "\n",
        "if \"milk\" not in pantry:\n",
        "    print(\"Add milk to shopping list\")\n",
        "\n",
        "if \"eggs\" not in pantry:\n",
        "    print(\"Add eggs to shopping list\")\n"
      ]
    },
    {
      "cell_type": "markdown",
      "id": "a2bbb575",
      "metadata": {
        "id": "a2bbb575"
      },
      "source": [
        "\n",
        "#  QUESTION 5: Social Media Filter\n",
        "\n",
        "Check if a post contains banned words or is too long.  \n"
      ]
    },
    {
      "cell_type": "code",
      "execution_count": null,
      "id": "6162d686",
      "metadata": {
        "colab": {
          "base_uri": "https://localhost:8080/"
        },
        "id": "6162d686",
        "outputId": "fa9dd971-6bb9-4f68-cfdf-069b9a42518b"
      },
      "outputs": [
        {
          "output_type": "stream",
          "name": "stdout",
          "text": [
            "Send to review\n"
          ]
        }
      ],
      "source": [
        "post = \"Check this amazing offer, no clickbait here!\"\n",
        "\n",
        "\n",
        "banned_word_1 = \"spam\"\n",
        "banned_word_2 = \"clickbait\"\n",
        "\n",
        "if (banned_word_1 in post.lower()) or (banned_word_2 in post.lower()) or (len(post) >= 140):\n",
        "    print(\"Send to review\")\n",
        "else:\n",
        "    print(\"OK to publish\")\n",
        "\n",
        "\n",
        "\n",
        "\n",
        "\n",
        "\n",
        "\n"
      ]
    },
    {
      "cell_type": "markdown",
      "id": "f09a09c1",
      "metadata": {
        "id": "f09a09c1"
      },
      "source": [
        "\n",
        "# QUESTION 6: Game Level Access\n",
        "\n",
        "In this problem, we want to decide which game level a player can enter based on their score.\n",
        "\n",
        " • If the score is less than 20, the player cannot play yet, because they don’t have enough points.\n",
        "\n",
        " • If the score is between 20 and 49, the player can play Level 1.\n",
        "\n",
        " • If the score is between 50 and 79, the player can play Level 2.\n",
        "\n",
        " • If the score is 80 or higher, the player can play Level 3 (Expert mode).\n",
        "\n",
        "\n",
        "So basically, the program checks the score step by step and prints the right level for the player.  \n"
      ]
    },
    {
      "cell_type": "code",
      "execution_count": null,
      "id": "a584597f",
      "metadata": {
        "colab": {
          "base_uri": "https://localhost:8080/"
        },
        "id": "a584597f",
        "outputId": "3abbe21a-70bf-4671-d673-90c5e7ffed90"
      },
      "outputs": [
        {
          "output_type": "stream",
          "name": "stdout",
          "text": [
            "Welcome to Level 3 — Expert mode!\n"
          ]
        }
      ],
      "source": [
        "\n",
        "score = 100\n",
        "\n",
        "if score < 20:\n",
        "    print(\"Locked! You need at least 20 points to play.\")\n",
        "elif score < 50:\n",
        "    print(\"Welcome to Level 1!\")\n",
        "elif score < 80:\n",
        "    print(\"Welcome to Level 2!\")\n",
        "else:\n",
        "    print(\"Welcome to Level 3 — Expert mode!\")\n"
      ]
    },
    {
      "cell_type": "markdown",
      "id": "eb39d6bf",
      "metadata": {
        "id": "eb39d6bf"
      },
      "source": [
        "\n",
        "# FINAL: Walmart Shopping Cart\n",
        "Question: Free Gift Rules\n",
        "\n",
        "Write a Python program that checks what free gift a customer gets based on their cart:\n",
        " 1. If the cart has bread and milk → print \"Free butter included!\"\n",
        " 2. If the cart has eggs or rice → print \"Free spoon included!\"\n",
        " 3. If the cart has none of these → print \"No free gift.\"\n",
        "\n",
        "\n",
        "\n",
        "\n",
        "\n"
      ]
    },
    {
      "cell_type": "code",
      "source": [
        "# Shopping Cart =\n",
        "Shopping_Cart = [\"Bread and Milk\",\"Free Butter included\",\"None\"]\n",
        "\n",
        "Shopping_Cart = \"Bread and Milk\"\n",
        "\n",
        "if \"Bread and Milk\" in Shopping_Cart:\n",
        "  print(\"Free butter included\")\n",
        "elif \"Eggs or rice\" in Shopping_Cart:\n",
        "  print(\"Free Spoon incuded\")\n",
        "else:\n",
        "  print(\"No Free Gift\")\n"
      ],
      "metadata": {
        "colab": {
          "base_uri": "https://localhost:8080/"
        },
        "id": "PRf_FLHKoY4W",
        "outputId": "54d5da58-7246-4027-87d4-c6d399a01898"
      },
      "id": "PRf_FLHKoY4W",
      "execution_count": 44,
      "outputs": [
        {
          "output_type": "stream",
          "name": "stdout",
          "text": [
            "Free butter included\n"
          ]
        }
      ]
    },
    {
      "cell_type": "code",
      "source": [
        "# Write your answer here, upload this file to your gitHub repository and send me the link in Canvas messages.\n"
      ],
      "metadata": {
        "id": "Bom_JEOu4Mk7"
      },
      "id": "Bom_JEOu4Mk7",
      "execution_count": null,
      "outputs": []
    }
  ],
  "metadata": {
    "colab": {
      "provenance": [],
      "include_colab_link": true
    },
    "language_info": {
      "name": "python"
    },
    "kernelspec": {
      "name": "python3",
      "display_name": "Python 3"
    }
  },
  "nbformat": 4,
  "nbformat_minor": 5
}