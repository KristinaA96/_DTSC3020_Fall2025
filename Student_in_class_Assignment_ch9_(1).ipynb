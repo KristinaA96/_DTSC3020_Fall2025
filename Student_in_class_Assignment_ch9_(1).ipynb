{
  "nbformat": 4,
  "nbformat_minor": 0,
  "metadata": {
    "colab": {
      "provenance": [],
      "include_colab_link": true
    },
    "kernelspec": {
      "name": "python3",
      "display_name": "Python 3"
    },
    "language_info": {
      "name": "python"
    }
  },
  "cells": [
    {
      "cell_type": "markdown",
      "metadata": {
        "id": "view-in-github",
        "colab_type": "text"
      },
      "source": [
        "<a href=\"https://colab.research.google.com/github/KristinaA96/_DTSC3020_Fall2025/blob/main/Student_in_class_Assignment_ch9_(1).ipynb\" target=\"_parent\"><img src=\"https://colab.research.google.com/assets/colab-badge.svg\" alt=\"Open In Colab\"/></a>"
      ]
    },
    {
      "cell_type": "markdown",
      "source": [
        "create a class called InventoryItem that represents a single product in stock — for example, an apple in a grocery store. The class keeps track of the product’s name, price, quantity, and minimum stock level (the level where we might need to reorder).\n",
        "\n",
        "......\n",
        "\n",
        "When you store the attributes, convert types as follows:\n",
        "\n",
        "• name → str(name)\n",
        "\n",
        "• price → float(price)\n",
        "\n",
        "• quantity → int(quantity) (default 0)\n",
        "\n",
        "• min_stock → int(min_stock) (default 0)\n",
        "\n",
        "Validation:\n",
        "\n",
        "• If any of price, quantity, or min_stock is negative, raise ValueError with a clear message.\n",
        "\n",
        "......\n",
        "\n",
        "Methods to implement\n",
        "\n",
        "restock(self, qty)\n",
        "• If qty is negative, raise ValueError.\n",
        "\n",
        "• Otherwise, increase quantity by qty.\n",
        "\n",
        "sell(self, qty)\n",
        "• If qty is not positive (≤ 0), raise ValueError.\n",
        "\n",
        "• If there is enough stock (self.quantity >= qty), decrease quantity by qty and return True.\n",
        "\n",
        "• Otherwise, return False (do not change quantity).\n",
        "\n",
        "value(self)\n",
        "• Return the total value of this item in stock:\n",
        "\n",
        "price * quantity (a float).\n",
        "\n",
        "repr(self)\n",
        "Provide a readable text description of the object when printed.\n",
        "\n",
        "return (f\"InventoryItem(name={self.name}, price={self.price}, \" f\"qty={self.quantity}, min_stock={self.min_stock})\")\n",
        "\n",
        "........\n",
        "\n",
        "• Return a developer-friendly string that shows all fields, for example: InventoryItem(name='Apple', price=0.5, quantity=3, min_stock=1)"
      ],
      "metadata": {
        "id": "vW98iSj6mCjt"
      }
    },
    {
      "cell_type": "code",
      "metadata": {
        "colab": {
          "base_uri": "https://localhost:8080/"
        },
        "id": "58a9c84c",
        "outputId": "fd94fe57-cf81-4ea9-c67a-d2a1518e266b"
      },
      "source": [
        "# Test the sell method\n",
        "print(f\"Initial item: {item}\")\n",
        "sell_quantity = 2\n",
        "success = item.sell(sell_quantity)\n",
        "if success:\n",
        "    print(f\"Successfully sold {sell_quantity} items. Updated item: {item}\")\n",
        "else:\n",
        "    print(f\"Could not sell {sell_quantity} items due to insufficient stock. Current item: {item}\")\n",
        "\n",
        "# Test selling more than available stock\n",
        "sell_quantity_fail = 10\n",
        "success_fail = item.sell(sell_quantity_fail)\n",
        "if success_fail:\n",
        "    print(f\"Successfully sold {sell_quantity_fail} items. Updated item: {item}\")\n",
        "else:\n",
        "    print(f\"Could not sell {sell_quantity_fail} items due to insufficient stock. Current item: {item}\")"
      ],
      "execution_count": 24,
      "outputs": [
        {
          "output_type": "stream",
          "name": "stdout",
          "text": [
            "Initial item: InventoryItem(name='Apple', price=0.5, quantity=3, min_stock=1)\n",
            "Successfully sold 2 items. Updated item: InventoryItem(name='Apple', price=0.5, quantity=1, min_stock=1)\n",
            "Could not sell 10 items due to insufficient stock. Current item: InventoryItem(name='Apple', price=0.5, quantity=1, min_stock=1)\n"
          ]
        }
      ]
    },
    {
      "cell_type": "code",
      "metadata": {
        "colab": {
          "base_uri": "https://localhost:8080/"
        },
        "id": "1349b0bf",
        "outputId": "62ebbbf0-b225-42b2-d397-39c65312ad96"
      },
      "source": [
        "# Test the value method\n",
        "item_value = item.value()\n",
        "print(f\"The total value of the item in stock is: {item_value}\")"
      ],
      "execution_count": 23,
      "outputs": [
        {
          "output_type": "stream",
          "name": "stdout",
          "text": [
            "The total value of the item in stock is: 1.5\n"
          ]
        }
      ]
    },
    {
      "cell_type": "code",
      "execution_count": 14,
      "metadata": {
        "id": "Hayuin-1lkgP"
      },
      "outputs": [],
      "source": [
        "class InventoryItem:\n",
        "    def __init__(self, name, price, quantity=0, min_stock=0):\n",
        "        self.name = str(name)\n",
        "        self.price = float(price)\n",
        "        self.quantity = int(quantity)\n",
        "        self.min_stock = int(min_stock)\n",
        "\n",
        "        # Validation\n",
        "        if self.price < 0:\n",
        "            raise ValueError(\"Price cannot be negative.\")\n",
        "        if self.quantity < 0:\n",
        "            raise ValueError(\"Quantity cannot be negative.\")\n",
        "        if self.min_stock < 0:\n",
        "            raise ValueError(\"Minimum stock level cannot be negative.\")\n",
        "\n",
        "    def restock(self, qty):\n",
        "        if qty < 0:\n",
        "            raise ValueError(\"Restock quantity cannot be negative.\")\n",
        "        self.quantity += qty\n",
        "\n",
        "    def sell(self, qty):\n",
        "        if qty <= 0:\n",
        "            raise ValueError(\"Sell quantity must be positive.\")\n",
        "        if self.quantity >= qty:\n",
        "            self.quantity -= qty\n",
        "            return True\n",
        "        else:\n",
        "            return False\n",
        "\n",
        "    def value(self):\n",
        "        return self.price * self.quantity\n",
        "\n",
        "    def __repr__(self):\n",
        "        return (f\"InventoryItem(name={self.name!r}, price={self.price}, \"f\"quantity={self.quantity}, min_stock={self.min_stock})\")\n",
        ""
      ]
    }
  ]
}